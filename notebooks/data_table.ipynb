{
 "cells": [
  {
   "cell_type": "code",
   "execution_count": null,
   "id": "ac9c74aa",
   "metadata": {},
   "outputs": [],
   "source": [
    "# Dependencies\n",
    "import pandas as pd"
   ]
  },
  {
   "cell_type": "code",
   "execution_count": null,
   "id": "1de41081",
   "metadata": {},
   "outputs": [],
   "source": [
    "# Store csv filepath in a variable\n",
    "cities = \"../Resources/cities.csv\""
   ]
  },
  {
   "cell_type": "code",
   "execution_count": null,
   "id": "32230b5a",
   "metadata": {},
   "outputs": [],
   "source": [
    "# Read our Data file with the pandas library\n",
    "cities_df = pd.read_csv(cities, encoding=\"utf-8\")"
   ]
  },
  {
   "cell_type": "code",
   "execution_count": null,
   "id": "8778092c",
   "metadata": {},
   "outputs": [],
   "source": [
    "# Display DataFrame\n",
    "cities_df"
   ]
  },
  {
   "cell_type": "code",
   "execution_count": null,
   "id": "40062efb",
   "metadata": {},
   "outputs": [],
   "source": [
    "# Export DataFrame to html file with the header, but without Pandas index\n",
    "cities_df.to_html(\"../Resources/cities.html\", index=False, header=True, justify=\"left\")"
   ]
  },
  {
   "cell_type": "code",
   "execution_count": null,
   "id": "1944b513",
   "metadata": {},
   "outputs": [],
   "source": []
  }
 ],
 "metadata": {
  "kernelspec": {
   "display_name": "Python [conda env:PythonData38] *",
   "language": "python",
   "name": "conda-env-PythonData38-py"
  },
  "language_info": {
   "codemirror_mode": {
    "name": "ipython",
    "version": 3
   },
   "file_extension": ".py",
   "mimetype": "text/x-python",
   "name": "python",
   "nbconvert_exporter": "python",
   "pygments_lexer": "ipython3",
   "version": "3.8.12"
  }
 },
 "nbformat": 4,
 "nbformat_minor": 5
}
